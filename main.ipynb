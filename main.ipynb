{
 "cells": [
  {
   "cell_type": "code",
   "execution_count": 1,
   "id": "e9d7e138-eeb9-4d4e-a732-d5317c607412",
   "metadata": {},
   "outputs": [],
   "source": [
    "import numpy as np\n",
    "import matplotlib.pyplot as plt\n",
    "import random"
   ]
  },
  {
   "cell_type": "code",
   "execution_count": 2,
   "id": "d488c098-fe24-4919-83f3-f21c8c557bc5",
   "metadata": {},
   "outputs": [],
   "source": [
    "X_train = np.loadtxt('train_X.csv', delimiter=',').T\n",
    "Y_train = np.loadtxt('train_label.csv', delimiter=',').T\n",
    "\n",
    "X_test = np.loadtxt('test_X.csv', delimiter=',').T\n",
    "Y_test = np.loadtxt('test_label.csv', delimiter=',').T"
   ]
  },
  {
   "cell_type": "code",
   "execution_count": 3,
   "id": "994d8cbc",
   "metadata": {},
   "outputs": [
    {
     "name": "stdout",
     "output_type": "stream",
     "text": [
      "Shape of X_train: (784, 1000)\n",
      "Shape of Y_train: (10, 1000)\n",
      "Shape of X_test: (784, 350)\n",
      "Shape of Y_test: (10, 350)\n"
     ]
    }
   ],
   "source": [
    "print(f'Shape of X_train: {X_train.shape}')\n",
    "print(f'Shape of Y_train: {Y_train.shape}')\n",
    "\n",
    "print(f'Shape of X_test: {X_test.shape}')\n",
    "print(f'Shape of Y_test: {Y_test.shape}')"
   ]
  },
  {
   "cell_type": "code",
   "execution_count": 4,
   "id": "364b06fe",
   "metadata": {},
   "outputs": [
    {
     "data": {
      "image/png": "[encoded data removed]",
      "text/plain": [
       "<Figure size 640x480 with 1 Axes>"
      ]
     },
     "metadata": {},
     "output_type": "display_data"
    }
   ],
   "source": [
    "index = random.randrange(0, X_train.shape[1])\n",
    "plt.imshow(X_train[:, index].reshape(28, 28), cmap='gray')\n",
    "plt.show()"
   ]
  },
  {
   "cell_type": "code",
   "execution_count": 5,
   "id": "afafea8f",
   "metadata": {},
   "outputs": [],
   "source": [
    "def tanh(x):\n",
    "  return np.tanh(x)\n",
    "\n",
    "def relu(x):\n",
    "  return np.maximum(x, 0)\n",
    "\n",
    "def softmax(x):\n",
    "  expX = np.exp(x)\n",
    "  return expX/np.sum(expX, axis=0)"
   ]
  },
  {
   "cell_type": "code",
   "execution_count": 6,
   "id": "d49ca40d",
   "metadata": {},
   "outputs": [],
   "source": [
    "def derivative_tanh(x):\n",
    "  return (1 - np.power(np.tanh(x), 2))\n",
    "\n",
    "def derivative_relu(x):\n",
    "  return np.array(x>0, dtype=np.float32)"
   ]
  },
  {
   "cell_type": "code",
   "execution_count": 7,
   "id": "f5d1510c",
   "metadata": {},
   "outputs": [],
   "source": [
    "def initialize_parameters(n_x, n_h, n_y):\n",
    "  w1 = np.random.randn(n_h, n_x)*0.01\n",
    "  b1 = np.zeros((n_h, 1))\n",
    "\n",
    "  w2 = np.random.randn(n_y, n_h)*0.01\n",
    "  b2 = np.zeros((n_y, 1))\n",
    "\n",
    "  parameters = {\n",
    "    'w1': w1,\n",
    "    'b1': b1,\n",
    "    'w2': w2,\n",
    "    'b2': b2\n",
    "  }\n",
    "\n",
    "  return parameters"
   ]
  },
  {
   "cell_type": "code",
   "execution_count": 8,
   "id": "7e89a0c9",
   "metadata": {},
   "outputs": [],
   "source": [
    "def forward_propogation(x, parameters):\n",
    "  w1 = parameters['w1']\n",
    "  b1 = parameters['b1']\n",
    "  w2 = parameters['w2']\n",
    "  b2 = parameters['b2']\n",
    "\n",
    "  z1 = np.dot(w1, x) + b1\n",
    "  a1 = relu(z1)\n",
    "  \n",
    "  z2 = np.dot(w2, a1) + b2\n",
    "  a2 = softmax(z2)\n",
    "\n",
    "  forward_cache ={\n",
    "    'z1': z1,\n",
    "    'a1': a1,\n",
    "    'z2': z2,\n",
    "    'a2': a2\n",
    "  }\n",
    "\n",
    "  return forward_cache"
   ]
  },
  {
   "cell_type": "code",
   "execution_count": 9,
   "id": "f3cc4a05",
   "metadata": {},
   "outputs": [],
   "source": [
    "def cost_function(a2, y):\n",
    "  m = y.shape[1]\n",
    "  cost = -(1/m)*np.sum(y*np.log(a2))\n",
    "  # const = -(1/m)*np.sum(y*np.log(a2, 0), 1)\n",
    "\n",
    "  return cost"
   ]
  },
  {
   "cell_type": "code",
   "execution_count": 10,
   "id": "a81ee779",
   "metadata": {},
   "outputs": [],
   "source": [
    "def back_propogation(x, y, parameters, forward_cache):\n",
    "  w1 = parameters['w1']\n",
    "  b1 = parameters['b1']\n",
    "  w2 = parameters['w2']\n",
    "  b2 = parameters['b2']\n",
    "  \n",
    "  a1 = forward_cache['a1']\n",
    "  a2 = forward_cache['a2']\n",
    "\n",
    "  m = x.shape[1]\n",
    "\n",
    "  dz2 = (a2 - y)\n",
    "  dw2 = (1/m)*np.dot(dz2, a1.T)\n",
    "  db2 = (1/m)*np.sum(dz2, axis=1, keepdims= True)\n",
    "\n",
    "  dz1 = (1/m)*np.dot(w2.T, dz2)*derivative_tanh(a1)\n",
    "  dw1 = (1/m)*np.dot(dz1, x.T)\n",
    "  db1 = (1/m)*np.sum(dz1, axis=1, keepdims=True)\n",
    "\n",
    "  gradients = {\n",
    "    'dw1': dw1,\n",
    "    'db1': db1,\n",
    "    'dw2': dw2,\n",
    "    'db2': db2\n",
    "  }\n",
    "  \n",
    "  return gradients"
   ]
  },
  {
   "cell_type": "code",
   "execution_count": 11,
   "id": "860d3012",
   "metadata": {},
   "outputs": [],
   "source": [
    "def update_parameters(parameters, gradients, learning_rate):\n",
    "  w1 = parameters['w1']\n",
    "  b1 = parameters['b1']\n",
    "  w2 = parameters['w2']\n",
    "  b2 = parameters['b2']\n",
    "\n",
    "  dw1 = gradients['dw1']\n",
    "  db1 = gradients['db1']\n",
    "  dw2 = gradients['dw2']\n",
    "  db2 = gradients['db2']\n",
    "\n",
    "  w1 = w1-learning_rate*dw1\n",
    "  b1 = b1-learning_rate*db1\n",
    "  w2 = w2-learning_rate*dw2\n",
    "  b2 = b2-learning_rate*db2\n",
    "  \n",
    "  parameters = {\n",
    "    'w1': w1,\n",
    "    'b1': b1,\n",
    "    'w2': w2,\n",
    "    'b2': b2\n",
    "  }\n",
    "  return parameters"
   ]
  },
  {
   "cell_type": "code",
   "execution_count": 12,
   "id": "8f305a1a",
   "metadata": {},
   "outputs": [],
   "source": [
    "def model(x, y, n_h, learning_rate, iterations):\n",
    "  n_x = x.shape[0]\n",
    "  n_y = y.shape[0]\n",
    "\n",
    "  parameters = initialize_parameters(n_x, n_h, n_y)\n",
    "  cost_list = []\n",
    "\n",
    "  for i in range(iterations):\n",
    "    forward_cache = forward_propogation(x, parameters)\n",
    "    cost =  cost_function(forward_cache['a2'], y)\n",
    "    gradients = back_propogation(x, y, parameters, forward_cache)\n",
    "    parameters = update_parameters(parameters, gradients, learning_rate)\n",
    "    cost_list.append(cost)\n",
    "\n",
    "    if(i%(iterations/10)==0):\n",
    "      print(f'cost after {i} iterations: {cost}')\n",
    "  \n",
    "  return parameters, cost_list"
   ]
  },
  {
   "cell_type": "code",
   "execution_count": 13,
   "id": "2d0dbe04",
   "metadata": {},
   "outputs": [
    {
     "name": "stdout",
     "output_type": "stream",
     "text": [
      "cost after 0 iterations: 6.364807913870962\n",
      "cost after 10 iterations: 29.930495077148734\n",
      "cost after 20 iterations: 2.152456543805787\n",
      "cost after 30 iterations: 2.2845874257451815\n",
      "cost after 40 iterations: 0.539399823158939\n",
      "cost after 50 iterations: 0.3055222205045557\n",
      "cost after 60 iterations: 0.17260859569765177\n",
      "cost after 70 iterations: 0.09782074273155075\n",
      "cost after 80 iterations: 0.06476221195799797\n",
      "cost after 90 iterations: 0.040915671744716706\n"
     ]
    }
   ],
   "source": [
    "iterations = 100\n",
    "n_h = 1000\n",
    "learning_rate = 0.002\n",
    "Parameters, Cost_list = model(X_train, Y_train, n_h, learning_rate, iterations)"
   ]
  },
  {
   "cell_type": "code",
   "execution_count": 14,
   "id": "69d79d5d",
   "metadata": {},
   "outputs": [
    {
     "data": {
      "image/png": "[encoded data removed]",
      "text/plain": [
       "<Figure size 640x480 with 1 Axes>"
      ]
     },
     "metadata": {},
     "output_type": "display_data"
    }
   ],
   "source": [
    "t = np.arange(0, iterations)\n",
    "plt.plot(t, Cost_list)\n",
    "plt.show()"
   ]
  },
  {
   "cell_type": "code",
   "execution_count": 15,
   "id": "c40c22d9",
   "metadata": {},
   "outputs": [],
   "source": [
    "def accuracy(inp, labels, parameters):\n",
    "  forward_cache = forward_propogation(inp, parameters)\n",
    "  a_out = forward_cache['a2']\n",
    "\n",
    "  a_out = np.argmax(a_out, 0)\n",
    "  y_out = np.argmax(labels, 0)\n",
    "\n",
    "  acc = np.mean(a_out==y_out)*100\n",
    "  return acc"
   ]
  },
  {
   "cell_type": "code",
   "execution_count": 16,
   "id": "7837dce6",
   "metadata": {},
   "outputs": [
    {
     "name": "stdout",
     "output_type": "stream",
     "text": [
      "Accuracy of training dataset:  99.7 %\n",
      "Accuracy of testing dataset: 86.86 %\n"
     ]
    }
   ],
   "source": [
    "print(\"Accuracy of training dataset: \", accuracy(X_train, Y_train, Parameters), \"%\")\n",
    "print(\"Accuracy of testing dataset:\", round(accuracy(X_test, Y_test, Parameters), 2), \"%\")"
   ]
  }
 ],
 "metadata": {
  "kernelspec": {
   "display_name": "Python 3 (ipykernel)",
   "language": "python",
   "name": "python3"
  },
  "language_info": {
   "codemirror_mode": {
    "name": "ipython",
    "version": 3
   },
   "file_extension": ".py",
   "mimetype": "text/x-python",
   "name": "python",
   "nbconvert_exporter": "python",
   "pygments_lexer": "ipython3",
   "version": "3.12.1"
  }
 },
 "nbformat": 4,
 "nbformat_minor": 5
}
