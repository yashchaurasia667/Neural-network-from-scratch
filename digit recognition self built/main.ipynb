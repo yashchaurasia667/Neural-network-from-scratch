{
 "cells": [
  {
   "cell_type": "code",
   "execution_count": 79,
   "metadata": {},
   "outputs": [],
   "source": [
    "import numpy as np\n",
    "import matplotlib.pyplot as plt\n",
    "import pandas as pd\n",
    "import random"
   ]
  },
  {
   "cell_type": "code",
   "execution_count": 80,
   "metadata": {},
   "outputs": [],
   "source": [
    "# Setting up the dataset\n",
    "\n",
    "train_ds = pd.read_csv('train.csv')\n",
    "xTrain= train_ds.drop(columns=['label']).to_numpy()      # Changing the shape from \n",
    "yTrain= train_ds['label'].to_numpy()      # Changing the shape from (1, n) to (n, 1)\n",
    "\n",
    "test_ds = pd.read_csv('test.csv')\n",
    "xTest = test_ds.to_numpy()"
   ]
  },
  {
   "cell_type": "code",
   "execution_count": 81,
   "metadata": {},
   "outputs": [
    {
     "name": "stdout",
     "output_type": "stream",
     "text": [
      "Shape of xTrain: (42000, 784)\n",
      "Shape of Y_train: (42000,)\n",
      "Shape of X_test: (28000, 784)\n"
     ]
    }
   ],
   "source": [
    "print(f'Shape of xTrain: {xTrain.shape}')\n",
    "print(f'Shape of Y_train: {yTrain.shape}')\n",
    "\n",
    "print(f'Shape of X_test: {xTest.shape}')"
   ]
  },
  {
   "cell_type": "code",
   "execution_count": 88,
   "metadata": {},
   "outputs": [
    {
     "name": "stdout",
     "output_type": "stream",
     "text": [
      "(784,)\n"
     ]
    },
    {
     "data": {
      "image/png": "[encoded data removed]",
      "text/plain": [
       "<Figure size 640x480 with 1 Axes>"
      ]
     },
     "metadata": {},
     "output_type": "display_data"
    }
   ],
   "source": [
    "# Selecting a random image\n",
    "\n",
    "index = random.randrange(0, xTrain.shape[0])\n",
    "plt.imshow(xTrain[index,:].reshape(28, 28), cmap='gray')\n",
    "plt.show()"
   ]
  },
  {
   "cell_type": "code",
   "execution_count": 83,
   "metadata": {},
   "outputs": [],
   "source": [
    "# Activation functions\n",
    "\n",
    "def tanh(x):\n",
    "  return np.tanh(x)\n",
    "\n",
    "def reLU(x):\n",
    "  return np.maximum(0, x)"
   ]
  },
  {
   "cell_type": "code",
   "execution_count": 89,
   "metadata": {},
   "outputs": [],
   "source": [
    "# Initialize weights and biases\n",
    "\n",
    "def initialize(nH, nX, nY):       # nH -> No. of neurons in the hidden layer, nX -> No. of neurons in the input layer\n",
    "  w1 = np.random.randn(nX, nH)\n",
    "  b1 = np.zeros(nH, 1)\n",
    "\n",
    "  w2 = np.random.randn(nX, nH)\n",
    "  b2 = np.zeros(nH, 1)"
   ]
  }
 ],
 "metadata": {
  "kernelspec": {
   "display_name": "Neural-network-from-scratch",
   "language": "python",
   "name": "python3"
  },
  "language_info": {
   "codemirror_mode": {
    "name": "ipython",
    "version": 3
   },
   "file_extension": ".py",
   "mimetype": "text/x-python",
   "name": "python",
   "nbconvert_exporter": "python",
   "pygments_lexer": "ipython3",
   "version": "3.12.1"
  }
 },
 "nbformat": 4,
 "nbformat_minor": 2
}
