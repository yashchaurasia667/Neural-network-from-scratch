{
 "cells": [
  {
   "cell_type": "code",
   "execution_count": 2,
   "metadata": {},
   "outputs": [],
   "source": [
    "import pandas as pd\n",
    "import numpy as np"
   ]
  },
  {
   "cell_type": "code",
   "execution_count": 10,
   "metadata": {},
   "outputs": [],
   "source": [
    "# Importing data \n",
    "\n",
    "train_ds = pd.read_csv('train.csv')\n",
    "\n",
    "xTrain = train_ds.drop(columns=['label']).to_numpy()      # shape(42000, 784) -> every row contains a sample\n",
    "yTrain = train_ds['label'].to_numpy().reshape(42000, 1)   # converting a 1D array to 2D by reshaping from (42000,) to (42000, 1)\n",
    "\n",
    "test_ds = pd.read_csv('test.csv')\n",
    "\n",
    "xTest = test_ds.to_numpy()"
   ]
  },
  {
   "cell_type": "code",
   "execution_count": 11,
   "metadata": {},
   "outputs": [
    {
     "name": "stdout",
     "output_type": "stream",
     "text": [
      "Shape of X Train: (42000, 784)\n",
      "Shape of Y Train: (42000, 1)\n",
      "Shape of X test (28000, 784)\n"
     ]
    }
   ],
   "source": [
    "print(f'Shape of X Train: {xTrain.shape}')\n",
    "print(f'Shape of Y Train: {yTrain.shape}')\n",
    "\n",
    "print(f'Shape of X test {xTest.shape}')"
   ]
  },
  {
   "cell_type": "code",
   "execution_count": null,
   "metadata": {},
   "outputs": [],
   "source": [
    "def initialize_parameters(nX, nH):\n",
    "  w1 = np.random.randn(nX, nH)\n",
    "  b1 = np.zeros((1, nH))"
   ]
  }
 ],
 "metadata": {
  "kernelspec": {
   "display_name": "Neural-network-from-scratch",
   "language": "python",
   "name": "python3"
  },
  "language_info": {
   "codemirror_mode": {
    "name": "ipython",
    "version": 3
   },
   "file_extension": ".py",
   "mimetype": "text/x-python",
   "name": "python",
   "nbconvert_exporter": "python",
   "pygments_lexer": "ipython3",
   "version": "3.12.1"
  }
 },
 "nbformat": 4,
 "nbformat_minor": 2
}
